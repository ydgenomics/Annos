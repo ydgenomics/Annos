{
 "cells": [
  {
   "cell_type": "markdown",
   "id": "400b8ebb",
   "metadata": {},
   "source": [
    "**Ref:** [SingleR.Rmd](https://github.com/SingleR-inc/SingleR/blob/master/vignettes/SingleR.Rmd)"
   ]
  },
  {
   "cell_type": "markdown",
   "id": "352514cd",
   "metadata": {},
   "source": [
    "---\n",
    "title: Using SingleR to annotate single-cell RNA-seq data\n",
    "author:\n",
    "- name: Aaron Lun\n",
    "  email: infinite.monkeys.with.keyboards@gmail.com\n",
    "- name: Jared M. Andrews\n",
    "  affiliation: Washington University in St. Louis, School of Medicine, St. Louis, MO, USA\n",
    "- name: Friederike Dündar\n",
    "  affiliation: Applied Bioinformatics Core, Weill Cornell Medicine\n",
    "- name: Daniel Bunis\n",
    "  affiliation: Bakar Computational Health Sciences Institute, University of California San Francisco, San Francisco, CA\n",
    "date: \"Revised: June 14th, 2020\"\n",
    "output:\n",
    "  BiocStyle::html_document:\n",
    "    toc_float: true\n",
    "package: SingleR\n",
    "bibliography: ref.bib\n",
    "vignette: >\n",
    "  %\\VignetteIndexEntry{Annotating scRNA-seq data}\n",
    "  %\\VignetteEngine{knitr::rmarkdown}\n",
    "  %\\VignetteEncoding{UTF-8}\n",
    "---"
   ]
  },
  {
   "cell_type": "code",
   "execution_count": null,
   "id": "345bccc6",
   "metadata": {
    "vscode": {
     "languageId": "plaintext"
    }
   },
   "outputs": [],
   "source": [
    "knitr::opts_chunk$set(error=FALSE, message=FALSE, warning=FALSE)\n",
    "library(BiocStyle)"
   ]
  },
  {
   "cell_type": "markdown",
   "id": "52181986",
   "metadata": {},
   "source": [
    "# Introduction\n",
    "\n",
    "`r Biocpkg(\"SingleR\")` is an automatic annotation method for single-cell RNA sequencing (scRNAseq) data [@aran2019reference].\n",
    "Given a reference dataset of samples (single-cell or bulk) with known labels, \n",
    "it labels new cells from a test dataset based on similarity to the reference.\n",
    "Thus, the burden of manually interpreting clusters and defining marker genes only has to be done once, \n",
    "for the reference dataset, and this biological knowledge can be propagated to new datasets in an automated manner.\n",
    "\n",
    "To keep things brief, this vignette only provides a brief summary of the basic capabilities of `r Biocpkg(\"SingleR\")`.\n",
    "However, the package also provides more advanced functionality that includes the use of multiple references simultaneously,\n",
    "manipulating the cell ontology and improving performance on big datasets.\n",
    "Readers are referred to the [book](https://bioconductor.org/books/devel/SingleRBook/) for more details. \n",
    "\n",
    "# Using built-in references\n",
    "\n",
    "The easiest way to use `r Biocpkg(\"SingleR\")` is to annotate cells against built-in references.\n",
    "In particular, the `r Biocpkg(\"celldex\")` package provides access to several reference datasets\n",
    "(mostly derived from bulk RNA-seq or microarray data) through dedicated retrieval functions.\n",
    "Here, we will use the Human Primary Cell Atlas [@hpcaRef],\n",
    "represented as a `SummarizedExperiment` object containing a matrix of log-expression values with sample-level labels."
   ]
  },
  {
   "cell_type": "code",
   "execution_count": null,
   "id": "582375a6",
   "metadata": {
    "vscode": {
     "languageId": "plaintext"
    }
   },
   "outputs": [],
   "source": [
    "library(celldex)\n",
    "hpca.se <- HumanPrimaryCellAtlasData()\n",
    "hpca.se"
   ]
  },
  {
   "cell_type": "markdown",
   "id": "b6f79825",
   "metadata": {},
   "source": [
    "Our test dataset consists of some human embryonic stem cells [@lamanno2016molecular] from the `r Biocpkg(\"scRNAseq\")` package. \n",
    "For the sake of speed, we will only label the first 100 cells from this dataset.\n",
    "The test dataset does not need to be log-transformed, as only the ranks will be used by `SingleR()`."
   ]
  },
  {
   "cell_type": "code",
   "execution_count": null,
   "id": "4f2951e2",
   "metadata": {
    "vscode": {
     "languageId": "plaintext"
    }
   },
   "outputs": [],
   "source": [
    "library(scRNAseq)\n",
    "hESCs <- LaMannoBrainData('human-es')\n",
    "hESCs <- hESCs[,1:100]"
   ]
  },
  {
   "cell_type": "markdown",
   "id": "80667a82",
   "metadata": {},
   "source": [
    "We use our `hpca.se` reference to annotate each cell in `hESCs` via the `SingleR()` function.\n",
    "This identifies marker genes from the reference and uses them to compute assignment scores (based on the Spearman correlation across markers) for each cell in the test dataset against each label in the reference.\n",
    "The label with the highest score is the assigned to the test cell,\n",
    "possibly with further fine-tuning to resolve closely related labels."
   ]
  },
  {
   "cell_type": "code",
   "execution_count": null,
   "id": "6ca88698",
   "metadata": {
    "vscode": {
     "languageId": "plaintext"
    }
   },
   "outputs": [],
   "source": [
    "library(SingleR)\n",
    "pred.hesc <- SingleR(test = hESCs, ref = hpca.se, assay.type.test=1,\n",
    "    labels = hpca.se$label.main)"
   ]
  },
  {
   "cell_type": "markdown",
   "id": "274c5219",
   "metadata": {},
   "source": [
    "Each row of the output `DataFrame` contains prediction results for a single cell.\n",
    "Labels are shown before (`labels`) and after pruning (`pruned.labels`), along with the associated scores."
   ]
  },
  {
   "cell_type": "code",
   "execution_count": null,
   "id": "1da52c87",
   "metadata": {
    "vscode": {
     "languageId": "plaintext"
    }
   },
   "outputs": [],
   "source": [
    "pred.hesc\n",
    "# Summarizing the distribution:\n",
    "table(pred.hesc$labels)"
   ]
  },
  {
   "cell_type": "markdown",
   "id": "bbe3d8e3",
   "metadata": {},
   "source": [
    "At this point, it is worth noting that `r Biocpkg(\"SingleR\")` is workflow/package agnostic.\n",
    "The above example uses `SummarizedExperiment` objects, but the same functions will accept any (log-)normalized expression matrix."
   ]
  },
  {
   "cell_type": "markdown",
   "id": "414008b7",
   "metadata": {},
   "source": [
    "# Using single-cell references\n",
    "\n",
    "Here, we will use two human pancreas datasets from the `r Biocpkg(\"scRNAseq\")` package.\n",
    "The aim is to use one pre-labelled dataset to annotate the other unlabelled dataset.\n",
    "First, we set up the @muraro2016singlecell dataset to be our reference.\n"
   ]
  },
  {
   "cell_type": "code",
   "execution_count": null,
   "id": "a2383736",
   "metadata": {
    "vscode": {
     "languageId": "plaintext"
    }
   },
   "outputs": [],
   "source": [
    "library(scRNAseq)\n",
    "sceM <- MuraroPancreasData()\n",
    "\n",
    "# One should normally do cell-based quality control at this point, but for\n",
    "# brevity's sake, we will just remove the unlabelled libraries here.\n",
    "sceM <- sceM[,!is.na(sceM$label)]\n",
    "\n",
    "# SingleR() expects reference datasets to be normalized and log-transformed.\n",
    "library(scuttle)\n",
    "sceM <- logNormCounts(sceM)"
   ]
  },
  {
   "cell_type": "markdown",
   "id": "efd1bb75",
   "metadata": {},
   "source": [
    "We then set up our test dataset from @grun2016denovo.\n",
    "To speed up this demonstration, we will subset to the first 100 cells."
   ]
  },
  {
   "cell_type": "code",
   "execution_count": null,
   "id": "11f9a4ed",
   "metadata": {
    "vscode": {
     "languageId": "plaintext"
    }
   },
   "outputs": [],
   "source": [
    "sceG <- GrunPancreasData()\n",
    "sceG <- sceG[,colSums(counts(sceG)) > 0] # Remove libraries with no counts.\n",
    "\n",
    "# Log-transformation is not actually required for SingleR itself,\n",
    "# but we'll do it anyway as we need it for plotting heatmaps later.\n",
    "sceG <- logNormCounts(sceG) "
   ]
  },
  {
   "cell_type": "markdown",
   "id": "f322ada6",
   "metadata": {},
   "source": [
    "We then run `SingleR()` as described previously but with a marker detection mode that considers the variance of expression across cells.\n",
    "Here, we will use the Wilcoxon ranked sum test to identify the top markers for each pairwise comparison between labels.\n",
    "This is slower but more appropriate for single-cell data compared to the default marker detection algorithm (which may fail for low-coverage data where the median is frequently zero).\n"
   ]
  },
  {
   "cell_type": "code",
   "execution_count": null,
   "id": "ac9e37ef",
   "metadata": {
    "vscode": {
     "languageId": "plaintext"
    }
   },
   "outputs": [],
   "source": [
    "pred.grun <- SingleR(test=sceG, ref=sceM, labels=sceM$label, de.method=\"wilcox\")\n",
    "table(pred.grun$labels)"
   ]
  },
  {
   "cell_type": "markdown",
   "id": "c47f594b",
   "metadata": {},
   "source": [
    "# Annotation diagnostics\n",
    "\n",
    "`plotScoreHeatmap()` displays the scores for all cells across all reference labels,\n",
    "which allows users to inspect the confidence of the predicted labels across the dataset.\n",
    "Ideally, each cell (i.e., column of the heatmap) should have one score that is obviously larger than the rest, \n",
    "indicating that it is unambiguously assigned to a single label.\n",
    "A spread of similar scores for a given cell indicates that the assignment is uncertain, \n",
    "though this may be acceptable if the uncertainty is distributed across similar cell types that cannot be easily resolved."
   ]
  },
  {
   "cell_type": "code",
   "execution_count": null,
   "id": "9b97664d",
   "metadata": {
    "vscode": {
     "languageId": "plaintext"
    }
   },
   "outputs": [],
   "source": [
    "plotScoreHeatmap(pred.grun)"
   ]
  },
  {
   "cell_type": "markdown",
   "id": "36496962",
   "metadata": {},
   "source": [
    "Another diagnostic is based on the per-cell \"deltas\", i.e., the difference between the score for the assigned label and the median across all labels for each cell.\n",
    "Low deltas indicate that the assignment is uncertain, which is especially relevant if the cell's true label does not exist in the reference.\n",
    "We can inspect these deltas across cells for each label using the `plotDeltaDistribution()` function."
   ]
  },
  {
   "cell_type": "code",
   "execution_count": null,
   "id": "b50fe99e",
   "metadata": {
    "vscode": {
     "languageId": "plaintext"
    }
   },
   "outputs": [],
   "source": [
    "plotDeltaDistribution(pred.grun, ncol = 3)"
   ]
  },
  {
   "cell_type": "markdown",
   "id": "b2f05197",
   "metadata": {},
   "source": [
    "The `pruneScores()` function will remove potentially poor-quality or ambiguous assignments based on the deltas.\n",
    "The minimum threshold on the deltas is defined using an outlier-based approach that accounts for differences in the scale of the correlations in various contexts - see `?pruneScores` for more details.\n",
    "`SingleR()` will also report the pruned scores automatically in the `pruned.labels` field where low-quality assignments are replaced with `NA`."
   ]
  },
  {
   "cell_type": "code",
   "execution_count": null,
   "id": "e4c690c3",
   "metadata": {
    "vscode": {
     "languageId": "plaintext"
    }
   },
   "outputs": [],
   "source": [
    "summary(is.na(pred.grun$pruned.labels))"
   ]
  },
  {
   "cell_type": "markdown",
   "id": "a76b3f63",
   "metadata": {},
   "source": [
    "Finally, a simple yet effective diagnostic is to examine the expression of the marker genes for each label in the test dataset.\n",
    "We extract the identity of the markers from the metadata of the `SingleR()` results and use them in the  `plotMarkerHeatmap()` function, as shown below for beta cell markers.\n",
    "If a cell in the test dataset is confidently assigned to a particular label, we would expect it to have strong expression of that label's markers.\n",
    "At the very least, it should exhibit upregulation of those markers relative to cells assigned to other labels."
   ]
  },
  {
   "cell_type": "code",
   "execution_count": null,
   "id": "02f48b95",
   "metadata": {
    "vscode": {
     "languageId": "plaintext"
    }
   },
   "outputs": [],
   "source": [
    "plotMarkerHeatmap(pred.grun, sceG, label=\"beta\")"
   ]
  },
  {
   "cell_type": "markdown",
   "id": "0b120b34",
   "metadata": {},
   "source": [
    "# FAQs\n",
    "\n",
    "*How can I use this with my `Seurat`, `SingleCellExperiment`, or `cell_data_set` object?*\n",
    "\n",
    "`r Biocpkg(\"SingleR\")` is workflow agnostic - all it needs is normalized counts.\n",
    "An example showing how to map its results back to common single-cell data objects is available in the [README](https://github.com/SingleR-inc/SingleR/blob/master/README.md).\n",
    "\n",
    "*Where can I find reference sets appropriate for my data?*\n",
    "\n",
    "`r Biocpkg(\"celldex\")` contains many built-in references that were previously in `r Biocpkg(\"SingleR\")`\n",
    "but have been migrated into a separate package for more general use by other Bioconductor packages.\n",
    "`r Biocpkg(\"scRNAseq\")` contains many single-cell datasets, many of which contain the authors' manual annotations.\n",
    "`r Biocpkg(\"ArrayExpress\")` and `r Biocpkg(\"GEOquery\")` can be used to download any of the bulk or single-cell datasets in [ArrayExpress](https://www.ebi.ac.uk/arrayexpress) or [GEO](https://www.ncbi.nlm.nih.gov/geo/), respectively.\n",
    "\n",
    "*Where can I get more help?*\n",
    "\n",
    "It is likely that your questions is already answered by the function documentation (e.g., `?SingleR`).\n",
    "Further explanations on the reasoning behind certain functions can be found in the [book](https://bioconductor.org/books/devel/SingleRBook/).\n",
    "If this is not sufficient, we recommend posting an issue on the [Bioconductor support site](https://support.bioconductor.org)\n",
    "or [the GitHub repository](https://github.com/SingleR-inc/SingleR) for this package.\n",
    "Be sure to include your session information and a minimal reproducible example."
   ]
  },
  {
   "cell_type": "markdown",
   "id": "42d99c66",
   "metadata": {},
   "source": [
    "# Session information"
   ]
  },
  {
   "cell_type": "code",
   "execution_count": null,
   "id": "db199d04",
   "metadata": {
    "vscode": {
     "languageId": "plaintext"
    }
   },
   "outputs": [],
   "source": [
    "sessionInfo()"
   ]
  },
  {
   "cell_type": "markdown",
   "id": "f5fc6327",
   "metadata": {},
   "source": [
    "# References"
   ]
  }
 ],
 "metadata": {
  "language_info": {
   "name": "python"
  }
 },
 "nbformat": 4,
 "nbformat_minor": 5
}
